{
 "cells": [
  {
   "cell_type": "markdown",
   "id": "3a48c852",
   "metadata": {},
   "source": [
    "# Recommender\n",
    "\n",
    "The main step of this project is to develop a recommender system for games in Board Game Arena. In this first approach we built a content-based recommender, and we developed a web application in [**Streamlit**](https://streamlit.io/) to try our recommender.\n",
    "\n",
    "The application is simple and there are two versions, in English and in Spanish.\n",
    "The user can choose one of the following options in order to create the user profile.\n",
    "\n",
    "- Copy and paste own BGA game history\n",
    "- Choose favourite games\n",
    "- Select categories/mechanics \n",
    "\n",
    "The recommender depends on the user input. It is based only in the category and mechanics information, and to a lesser extent, we also take into account the Bayes average rating of the games in BGG.\n",
    "\n",
    "The app will recommend the games with the highest scores given by our recommender function.\n",
    "\n",
    "The files in this folder are:\n",
    "\n",
    "- recommender.py - Scrip that contains the content-based recommender function.\n",
    "- streamlit_app.py - Script of the streamlit application.\n",
    "- utilities_streamlit.py - Script with functions that will use in the app.\n",
    "- categorias.txt, mecanicas.txt - Text files with the names of the categories and mechanics in Spanish.\n",
    "- requirements.txt - A list with the packages we need to run the app.\n",
    "\n",
    "\n",
    "[![Streamlit App](https://static.streamlit.io/badges/streamlit_badge_black_white.svg)](https://share.streamlit.io/mgiaroli/news_classifier/main/7.Streamlit_App/news_streamlit.py)"
   ]
  },
  {
   "cell_type": "code",
   "execution_count": null,
   "id": "4b4efccd",
   "metadata": {},
   "outputs": [],
   "source": []
  }
 ],
 "metadata": {
  "kernelspec": {
   "display_name": "Python 3 (ipykernel)",
   "language": "python",
   "name": "python3"
  },
  "language_info": {
   "codemirror_mode": {
    "name": "ipython",
    "version": 3
   },
   "file_extension": ".py",
   "mimetype": "text/x-python",
   "name": "python",
   "nbconvert_exporter": "python",
   "pygments_lexer": "ipython3",
   "version": "3.9.7"
  }
 },
 "nbformat": 4,
 "nbformat_minor": 5
}
